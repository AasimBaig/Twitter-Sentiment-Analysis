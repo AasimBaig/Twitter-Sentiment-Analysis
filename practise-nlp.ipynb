{
 "cells": [
  {
   "cell_type": "code",
   "execution_count": 3,
   "metadata": {},
   "outputs": [],
   "source": [
    "import numpy as np\n",
    "import pandas as pd\n",
    "import matplotlib.pyplot as plt\n",
    "import seaborn as sns\n",
    "import os\n",
    "import time\n",
    "import csv\n",
    "import tensorflow as tf\n",
    "from tensorflow import keras\n",
    "\n",
    "import nltk\n",
    "from nltk.text import Text\n",
    "from nltk.tokenize import word_tokenize,TweetTokenizer,sent_tokenize\n",
    "from nltk.stem import WordNetLemmatizer,PorterStemmer\n",
    "from nltk.corpus import stopwords\n",
    "import unicodedata,re,string\n",
    "from string import punctuation\n",
    "\n",
    "from sklearn.preprocessing import LabelEncoder\n",
    "from sklearn.feature_extraction.text import CountVectorizer\n",
    "from sklearn.feature_extraction.text import TfidfVectorizer\n",
    "from sklearn.svm import LinearSVC\n",
    "from sklearn.pipeline import Pipeline,make_pipeline\n",
    "from sklearn.model_selection import StratifiedKFold,cross_val_score\n",
    "from sklearn.model_selection import train_test_split\n",
    "from sklearn import metrics\n",
    "from sklearn.metrics import classification_report, confusion_matrix\n",
    "from sklearn.model_selection import GridSearchCV"
   ]
  },
  {
   "cell_type": "code",
   "execution_count": 5,
   "metadata": {},
   "outputs": [],
   "source": [
    "txt = [\"I hope you have a good day!,meet you later tonight\",\n",
    "      \"Yesterday we had a good dinner didnt we?\",\n",
    "      \"How you doing???\"]"
   ]
  },
  {
   "cell_type": "code",
   "execution_count": 7,
   "metadata": {},
   "outputs": [],
   "source": [
    "## here ngram = 1\n",
    "count_vec = CountVectorizer(\n",
    "    stop_words=\"english\",\n",
    "    encoding = \"utf-8\",\n",
    "    ngram_range=(1, 1),\n",
    "    lowercase = True,\n",
    "    analyzer = \"word\",\n",
    "    max_df=1.0,\n",
    "    min_df=1,\n",
    "    max_features=None)\n",
    "\n",
    "bag = count_vec.fit_transform(txt)"
   ]
  },
  {
   "cell_type": "code",
   "execution_count": 20,
   "metadata": {},
   "outputs": [
    {
     "name": "stdout",
     "output_type": "stream",
     "text": [
      "['day', 'didnt', 'dinner', 'doing', 'good', 'hope', 'later', 'meet', 'tonight', 'yesterday']\n"
     ]
    }
   ],
   "source": [
    "print(count_vec.get_feature_names())"
   ]
  },
  {
   "cell_type": "code",
   "execution_count": 21,
   "metadata": {},
   "outputs": [
    {
     "name": "stdout",
     "output_type": "stream",
     "text": [
      "{'hope': 5, 'good': 4, 'day': 0, 'meet': 7, 'later': 6, 'tonight': 8, 'yesterday': 9, 'dinner': 2, 'didnt': 1, 'doing': 3}\n"
     ]
    }
   ],
   "source": [
    "print(count_vec.vocabulary_)"
   ]
  },
  {
   "cell_type": "code",
   "execution_count": 12,
   "metadata": {},
   "outputs": [],
   "source": [
    "## here ngram = 2\n",
    "count_vec2 = CountVectorizer(\n",
    "    stop_words=\"english\",\n",
    "    encoding = \"utf-8\",\n",
    "    ngram_range=(1, 2),\n",
    "    lowercase = True,\n",
    "    analyzer = \"word\",\n",
    "    max_df=1.0,\n",
    "    min_df=1,\n",
    "    max_features=None)\n",
    "\n",
    "bag2 = count_vec2.fit_transform(txt)"
   ]
  },
  {
   "cell_type": "code",
   "execution_count": 19,
   "metadata": {},
   "outputs": [
    {
     "name": "stdout",
     "output_type": "stream",
     "text": [
      "['day', 'day meet', 'didnt', 'dinner', 'dinner didnt', 'doing', 'good', 'good day', 'good dinner', 'hope', 'hope good', 'later', 'later tonight', 'meet', 'meet later', 'tonight', 'yesterday', 'yesterday good']\n"
     ]
    }
   ],
   "source": [
    "print(count_vec2.get_feature_names())"
   ]
  },
  {
   "cell_type": "code",
   "execution_count": 18,
   "metadata": {},
   "outputs": [
    {
     "name": "stdout",
     "output_type": "stream",
     "text": [
      "{'hope': 9, 'good': 6, 'day': 0, 'meet': 13, 'later': 11, 'tonight': 15, 'hope good': 10, 'good day': 7, 'day meet': 1, 'meet later': 14, 'later tonight': 12, 'yesterday': 16, 'dinner': 3, 'didnt': 2, 'yesterday good': 17, 'good dinner': 8, 'dinner didnt': 4, 'doing': 5}\n"
     ]
    }
   ],
   "source": [
    "print(count_vec2.vocabulary_)"
   ]
  },
  {
   "cell_type": "code",
   "execution_count": 15,
   "metadata": {},
   "outputs": [],
   "source": [
    "## here ngram = 3\n",
    "count_vec3 = CountVectorizer(\n",
    "    stop_words=\"english\",\n",
    "    encoding = \"utf-8\",\n",
    "    ngram_range=(1, 3),\n",
    "    lowercase = True,\n",
    "    analyzer = \"word\",\n",
    "    max_df=1.0,\n",
    "    min_df=1,\n",
    "    max_features=None)\n",
    "\n",
    "bag3 = count_vec3.fit_transform(txt)"
   ]
  },
  {
   "cell_type": "code",
   "execution_count": 22,
   "metadata": {},
   "outputs": [
    {
     "name": "stdout",
     "output_type": "stream",
     "text": [
      "['day', 'day meet', 'day meet later', 'didnt', 'dinner', 'dinner didnt', 'doing', 'good', 'good day', 'good day meet', 'good dinner', 'good dinner didnt', 'hope', 'hope good', 'hope good day', 'later', 'later tonight', 'meet', 'meet later', 'meet later tonight', 'tonight', 'yesterday', 'yesterday good', 'yesterday good dinner']\n"
     ]
    }
   ],
   "source": [
    "print(count_vec3.get_feature_names())"
   ]
  },
  {
   "cell_type": "code",
   "execution_count": 23,
   "metadata": {},
   "outputs": [
    {
     "name": "stdout",
     "output_type": "stream",
     "text": [
      "{'hope': 12, 'good': 7, 'day': 0, 'meet': 17, 'later': 15, 'tonight': 20, 'hope good': 13, 'good day': 8, 'day meet': 1, 'meet later': 18, 'later tonight': 16, 'hope good day': 14, 'good day meet': 9, 'day meet later': 2, 'meet later tonight': 19, 'yesterday': 21, 'dinner': 4, 'didnt': 3, 'yesterday good': 22, 'good dinner': 10, 'dinner didnt': 5, 'yesterday good dinner': 23, 'good dinner didnt': 11, 'doing': 6}\n"
     ]
    }
   ],
   "source": [
    "print(count_vec3.vocabulary_)"
   ]
  },
  {
   "cell_type": "code",
   "execution_count": null,
   "metadata": {},
   "outputs": [],
   "source": []
  }
 ],
 "metadata": {
  "kernelspec": {
   "display_name": "Python 3",
   "language": "python",
   "name": "python3"
  },
  "language_info": {
   "codemirror_mode": {
    "name": "ipython",
    "version": 3
   },
   "file_extension": ".py",
   "mimetype": "text/x-python",
   "name": "python",
   "nbconvert_exporter": "python",
   "pygments_lexer": "ipython3",
   "version": "3.6.6"
  }
 },
 "nbformat": 4,
 "nbformat_minor": 2
}
