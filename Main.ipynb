{
 "cells": [
  {
   "cell_type": "code",
   "execution_count": 27,
   "metadata": {},
   "outputs": [
    {
     "name": "stdout",
     "output_type": "stream",
     "text": [
      "{\"created_at\": \"Sat Oct 05 17:34:40 +0000 2019\", \"default_profile\": true, \"description\": \"Dev Account XD\", \"id\": 1180536763346894849, \"id_str\": \"1180536763346894849\", \"name\": \"99PercentBeast\", \"profile_background_color\": \"F5F8FA\", \"profile_image_url\": \"http://pbs.twimg.com/profile_images/1180536857290932224/SmY5M2ff_normal.jpg\", \"profile_image_url_https\": \"https://pbs.twimg.com/profile_images/1180536857290932224/SmY5M2ff_normal.jpg\", \"profile_link_color\": \"1DA1F2\", \"profile_sidebar_border_color\": \"C0DEED\", \"profile_sidebar_fill_color\": \"DDEEF6\", \"profile_text_color\": \"333333\", \"profile_use_background_image\": true, \"screen_name\": \"beast_percent\", \"status\": {\"created_at\": \"Sun Oct 06 06:28:26 +0000 2019\", \"id\": 1180731521549758465, \"id_str\": \"1180731521549758465\", \"lang\": \"en\", \"source\": \"<a href=\\\"https://epic-sentiment-analysis.com\\\" rel=\\\"nofollow\\\">epic-sentiment-analysis</a>\", \"text\": \"This is post update on twitter\"}, \"statuses_count\": 1}\n"
     ]
    }
   ],
   "source": [
    "import twitter\n",
    "import time\n",
    "import os\n",
    "import csv\n",
    "\n",
    "cons_key = \"mNxnoZIpZYeHJV9GaM4Rz0Cwi\"\n",
    "cons_sec = \"ooMKnp4ozpAaYE0eZpuFMcyqSqYiMolGwSMJmM97Cf3En599AA\"\n",
    "acc_key = \"1180536763346894849-KD5UvELJbFKrshap2yjNM0aQjGKn2v\"\n",
    "acc_sec = \"aoiBD4MUiM2136WZweraKvLac0qITelSTcmKhXSl4WGyE\"\n",
    "\n",
    "# initialize api instance\n",
    "twitter_api = twitter.Api(consumer_key=cons_key,\n",
    "                        consumer_secret=cons_sec,\n",
    "                        access_token_key=acc_key,\n",
    "                        access_token_secret=acc_sec)\n",
    "\n",
    "# test authentication\n",
    "print(twitter_api.VerifyCredentials())"
   ]
  },
  {
   "cell_type": "code",
   "execution_count": 2,
   "metadata": {},
   "outputs": [],
   "source": [
    "def buildTestSet(search_keyword):\n",
    "    try:\n",
    "        tweets_fetched = twitter_api.GetSearch(search_keyword, count = 100)\n",
    "        \n",
    "        print(\"Fetched \" + str(len(tweets_fetched)) + \" tweets for the term \" + search_keyword)\n",
    "        \n",
    "        return [{\"text\":status.text, \"label\":None} for status in tweets_fetched]\n",
    "    except:\n",
    "        print(\"Unfortunately, something went wrong..\")\n",
    "        return None"
   ]
  },
  {
   "cell_type": "code",
   "execution_count": 4,
   "metadata": {},
   "outputs": [
    {
     "name": "stdin",
     "output_type": "stream",
     "text": [
      "Enter a search keyword: meme\n"
     ]
    },
    {
     "name": "stdout",
     "output_type": "stream",
     "text": [
      "Fetched 100 tweets for the term meme\n",
      "[{'text': \"C'est grave quand même... #ASCOM #teamOM\\n(images @CanalplusSport) https://t.co/wBGdPIgJs0\", 'label': None}, {'text': 'Speaker Nancy Pelosi: \"There\\'s this meme going around of me and I\\'m saying, \\'Donald, you used to own a casino. You… https://t.co/Ppo6KdwNEW', 'label': None}, {'text': 'LaRouche campaign plants deranged questioner who asks @AOC if we should “eat our babies” to protect the environment… https://t.co/2L7Lv89A6g', 'label': None}, {'text': 'RT @TvHenni7: @Kulturlesite_ Ptdr oula jai cru voir gambi et travis scott dans la meme phrase je suis fatigué jv me recoucher', 'label': None}]\n"
     ]
    }
   ],
   "source": [
    "search_term = input(\"Enter a search keyword:\")\n",
    "testDataSet = buildTestSet(search_term)\n",
    "\n",
    "print(testDataSet[0:4])"
   ]
  },
  {
   "cell_type": "code",
   "execution_count": 6,
   "metadata": {},
   "outputs": [],
   "source": [
    "##status = twitter_api.PostUpdate(\"This is post update on twitter\")\n",
    "##print(status)"
   ]
  },
  {
   "cell_type": "code",
   "execution_count": 28,
   "metadata": {},
   "outputs": [],
   "source": [
    "import pandas as pd\n",
    "corpus = pd.read_csv(\"data/corpus.csv\",header=-1)\n",
    "columns = [\"topic\",\"label\",\"tweet_id\"]\n",
    "corpus.columns = columns"
   ]
  },
  {
   "cell_type": "code",
   "execution_count": 29,
   "metadata": {},
   "outputs": [
    {
     "data": {
      "text/plain": [
       "list"
      ]
     },
     "execution_count": 29,
     "metadata": {},
     "output_type": "execute_result"
    }
   ],
   "source": [
    "trainingdata = []\n",
    "type(trainingdata)"
   ]
  },
  {
   "cell_type": "code",
   "execution_count": 56,
   "metadata": {},
   "outputs": [],
   "source": [
    "def build_training_set(corpusfile):\n",
    "    for index, tweet in corpusfile.iterrows():\n",
    "        try:\n",
    "            status = twitter_api.GetStatus(tweet[\"tweet_id\"])\n",
    "            print(status.text)\n",
    "            tweet[\"text\"] = status.text\n",
    "            trainingdata.append(tweet)\n",
    "            #print(tweet)\n",
    "            print(trainingdata)\n",
    "        except:\n",
    "            continue\n",
    "    return(trainingdata)"
   ]
  },
  {
   "cell_type": "code",
   "execution_count": null,
   "metadata": {},
   "outputs": [],
   "source": [
    "trainingdata = build_training_set(corpus[:10])"
   ]
  },
  {
   "cell_type": "code",
   "execution_count": 53,
   "metadata": {},
   "outputs": [
    {
     "data": {
      "text/html": [
       "<div>\n",
       "<style scoped>\n",
       "    .dataframe tbody tr th:only-of-type {\n",
       "        vertical-align: middle;\n",
       "    }\n",
       "\n",
       "    .dataframe tbody tr th {\n",
       "        vertical-align: top;\n",
       "    }\n",
       "\n",
       "    .dataframe thead th {\n",
       "        text-align: right;\n",
       "    }\n",
       "</style>\n",
       "<table border=\"1\" class=\"dataframe\">\n",
       "  <thead>\n",
       "    <tr style=\"text-align: right;\">\n",
       "      <th></th>\n",
       "      <th>topic</th>\n",
       "      <th>label</th>\n",
       "      <th>tweet_id</th>\n",
       "    </tr>\n",
       "  </thead>\n",
       "  <tbody>\n",
       "    <tr>\n",
       "      <th>0</th>\n",
       "      <td>apple</td>\n",
       "      <td>positive</td>\n",
       "      <td>126415614616154112</td>\n",
       "    </tr>\n",
       "    <tr>\n",
       "      <th>0</th>\n",
       "      <td>apple</td>\n",
       "      <td>positive</td>\n",
       "      <td>126415614616154112</td>\n",
       "    </tr>\n",
       "    <tr>\n",
       "      <th>2</th>\n",
       "      <td>apple</td>\n",
       "      <td>positive</td>\n",
       "      <td>126402758403305474</td>\n",
       "    </tr>\n",
       "    <tr>\n",
       "      <th>3</th>\n",
       "      <td>apple</td>\n",
       "      <td>positive</td>\n",
       "      <td>126397179614068736</td>\n",
       "    </tr>\n",
       "    <tr>\n",
       "      <th>6</th>\n",
       "      <td>apple</td>\n",
       "      <td>positive</td>\n",
       "      <td>126379685453119488</td>\n",
       "    </tr>\n",
       "  </tbody>\n",
       "</table>\n",
       "</div>"
      ],
      "text/plain": [
       "   topic     label            tweet_id\n",
       "0  apple  positive  126415614616154112\n",
       "0  apple  positive  126415614616154112\n",
       "2  apple  positive  126402758403305474\n",
       "3  apple  positive  126397179614068736\n",
       "6  apple  positive  126379685453119488"
      ]
     },
     "execution_count": 53,
     "metadata": {},
     "output_type": "execute_result"
    }
   ],
   "source": [
    "trainingdata = pd.DataFrame(trainingdata)\n",
    "trainingdata.head()"
   ]
  },
  {
   "cell_type": "code",
   "execution_count": 48,
   "metadata": {},
   "outputs": [],
   "source": [
    "trainingdata.to_csv(\"data/trainingdata.csv\",index=False)"
   ]
  },
  {
   "cell_type": "code",
   "execution_count": 49,
   "metadata": {},
   "outputs": [],
   "source": [
    "ts = pd.read_csv(\"data/trainingdata.csv\")"
   ]
  },
  {
   "cell_type": "code",
   "execution_count": 50,
   "metadata": {},
   "outputs": [
    {
     "data": {
      "text/html": [
       "<div>\n",
       "<style scoped>\n",
       "    .dataframe tbody tr th:only-of-type {\n",
       "        vertical-align: middle;\n",
       "    }\n",
       "\n",
       "    .dataframe tbody tr th {\n",
       "        vertical-align: top;\n",
       "    }\n",
       "\n",
       "    .dataframe thead th {\n",
       "        text-align: right;\n",
       "    }\n",
       "</style>\n",
       "<table border=\"1\" class=\"dataframe\">\n",
       "  <thead>\n",
       "    <tr style=\"text-align: right;\">\n",
       "      <th></th>\n",
       "      <th>topic</th>\n",
       "      <th>label</th>\n",
       "      <th>tweet_id</th>\n",
       "    </tr>\n",
       "  </thead>\n",
       "  <tbody>\n",
       "    <tr>\n",
       "      <th>0</th>\n",
       "      <td>apple</td>\n",
       "      <td>positive</td>\n",
       "      <td>126415614616154112</td>\n",
       "    </tr>\n",
       "    <tr>\n",
       "      <th>1</th>\n",
       "      <td>apple</td>\n",
       "      <td>positive</td>\n",
       "      <td>126415614616154112</td>\n",
       "    </tr>\n",
       "    <tr>\n",
       "      <th>2</th>\n",
       "      <td>apple</td>\n",
       "      <td>positive</td>\n",
       "      <td>126402758403305474</td>\n",
       "    </tr>\n",
       "    <tr>\n",
       "      <th>3</th>\n",
       "      <td>apple</td>\n",
       "      <td>positive</td>\n",
       "      <td>126397179614068736</td>\n",
       "    </tr>\n",
       "    <tr>\n",
       "      <th>4</th>\n",
       "      <td>apple</td>\n",
       "      <td>positive</td>\n",
       "      <td>126379685453119488</td>\n",
       "    </tr>\n",
       "  </tbody>\n",
       "</table>\n",
       "</div>"
      ],
      "text/plain": [
       "   topic     label            tweet_id\n",
       "0  apple  positive  126415614616154112\n",
       "1  apple  positive  126415614616154112\n",
       "2  apple  positive  126402758403305474\n",
       "3  apple  positive  126397179614068736\n",
       "4  apple  positive  126379685453119488"
      ]
     },
     "execution_count": 50,
     "metadata": {},
     "output_type": "execute_result"
    }
   ],
   "source": [
    "ts.head()"
   ]
  },
  {
   "cell_type": "code",
   "execution_count": 11,
   "metadata": {},
   "outputs": [],
   "source": [
    "## creating training data set around 5k tweets\n",
    "def build_training_set(corpusfile,full_corpus):\n",
    "    ## create array with variable name corpus\n",
    "    corpus = []\n",
    "    ## tweet's id is avaliable in our corpus csv file with sentiment\n",
    "    with open(corpusfile,'rt') as csvfile:\n",
    "        ## reading our csv file\n",
    "        lineread = csv.reader(csvfile,delimiter=',',quotechar=\"\\\"\")\n",
    "        for row in lineread:\n",
    "            corpus.append({\n",
    "            \"tweet_id\":row[2], # tweet's id \n",
    "            \"label\":row[1], ## sentiment\n",
    "            \"topic\":row[0]\n",
    "            }) ## topic related to it\n",
    "    \n",
    "    limit = 150\n",
    "    sleeptime = 900/limit\n",
    "    \n",
    "    \n",
    "    trainingdata = []        \n",
    "    for tweet in corpus:\n",
    "        try:\n",
    "            status = twitter_api.GetStatus(tweet[\"tweet_id\"])\n",
    "            print(\"Tweet is : \",status.text)\n",
    "            tweet[\"text\"] = status.text\n",
    "            trainingdata.append(tweet)\n",
    "            time.sleep(sleeptime)\n",
    "        except:\n",
    "            continue\n",
    "            \n",
    "    with open(full_corpus,'rwb') as tdf:\n",
    "        line = csv.writer(tdf,delimiter=\",\",quotechar=\"\\\"\")\n",
    "        for row in trainingdata:\n",
    "            try:\n",
    "                line.writerow(row['tweet_id'],row['text'],row['label'],row['topic'])\n",
    "            except:\n",
    "                print(e)\n",
    "    return(trainingdata)   "
   ]
  },
  {
   "cell_type": "code",
   "execution_count": 12,
   "metadata": {},
   "outputs": [],
   "source": [
    "corpusfile = \"data/corpus.csv\"\n",
    "full_corpus = \"data/trainingdata.csv\""
   ]
  },
  {
   "cell_type": "code",
   "execution_count": null,
   "metadata": {},
   "outputs": [],
   "source": [
    "build_training_set(corpusfile,full_corpus)"
   ]
  },
  {
   "cell_type": "code",
   "execution_count": null,
   "metadata": {},
   "outputs": [],
   "source": []
  },
  {
   "cell_type": "code",
   "execution_count": null,
   "metadata": {},
   "outputs": [],
   "source": []
  }
 ],
 "metadata": {
  "kernelspec": {
   "display_name": "Python 3",
   "language": "python",
   "name": "python3"
  },
  "language_info": {
   "codemirror_mode": {
    "name": "ipython",
    "version": 3
   },
   "file_extension": ".py",
   "mimetype": "text/x-python",
   "name": "python",
   "nbconvert_exporter": "python",
   "pygments_lexer": "ipython3",
   "version": "3.6.6"
  }
 },
 "nbformat": 4,
 "nbformat_minor": 2
}
